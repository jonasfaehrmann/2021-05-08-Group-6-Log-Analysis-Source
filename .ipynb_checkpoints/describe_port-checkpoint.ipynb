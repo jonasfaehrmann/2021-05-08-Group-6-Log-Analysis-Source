{
 "cells": [
  {
   "cell_type": "code",
   "execution_count": 7,
   "metadata": {},
   "outputs": [
    {
     "name": "stdout",
     "output_type": "stream",
     "text": [
      "Sep  7 11:45:47 monitoring systemd[1]: Stopping System Logging Service...\n",
      "\n",
      "['Sep', '', '7']\n",
      "monitoring\n",
      "Sep  7 11:45:47 monitoring rsyslogd:  [origin software=\"rsyslogd\" swVersion=\"8.1901.0\" x-pid=\"1165\" x-info=\"https://www.rsyslog.com\"] exiting on signal 15.\n",
      "\n",
      "['Sep', '', '7']\n",
      "monitoring\n",
      "Sep  7 11:45:47 monitoring systemd[1]: rsyslog.service: Succeeded.\n",
      "\n",
      "['Sep', '', '7']\n",
      "monitoring\n",
      "Sep  7 11:45:47 monitoring systemd[1]: Stopped System Logging Service.\n",
      "\n",
      "['Sep', '', '7']\n",
      "monitoring\n",
      "Sep  7 11:45:47 monitoring systemd[1]: Starting System Logging Service...\n",
      "\n",
      "['Sep', '', '7']\n",
      "monitoring\n",
      "Sep  7 11:45:47 monitoring rsyslogd: BSD-style blocks are no longer supported in rsyslog, see https://www.rsyslog.com/g/BSD for details and a solution (Block '+gw01.extranet.frachtwerk.de') [v8.1901.0 try https://www.rsyslog.com/e/2304 ]\n",
      "\n",
      "['Sep', '', '7']\n",
      "monitoring\n",
      "['', 'see', 'https://www.rsyslog.com/g/BSD']\n",
      "details\n",
      "Sep  7 11:45:47 monitoring systemd[1]: Started System Logging Service.\n",
      "\n",
      "['Sep', '', '7']\n",
      "monitoring\n",
      "Sep  7 11:45:47 monitoring rsyslogd: imuxsock: Acquired UNIX socket '/run/systemd/journal/syslog' (fd 3) from systemd.  [v8.1901.0]\n",
      "\n",
      "['Sep', '', '7']\n",
      "monitoring\n",
      "Sep  7 11:45:47 monitoring rsyslogd:  [origin software=\"rsyslogd\" swVersion=\"8.1901.0\" x-pid=\"1252\" x-info=\"https://www.rsyslog.com\"] start\n",
      "\n",
      "['Sep', '', '7']\n",
      "monitoring\n",
      "Sep  7 11:45:50 gw01.extranet.frachtwerk.de filterlog: 200,,,1599469328,vtnet3,match,block,in,4,0x0,,63,0,0,DF,6,tcp,40,172.23.0.2,23.54.112.189,51636,443,0,R,3551626076,,0,,\n",
      "\n",
      "['Sep', '', '7']\n",
      "gw01.extranet.frachtwerk.de\n"
     ]
    },
    {
     "ename": "IndexError",
     "evalue": "list index out of range",
     "output_type": "error",
     "traceback": [
      "\u001b[0;31m---------------------------------------------------------------------------\u001b[0m",
      "\u001b[0;31mIndexError\u001b[0m                                Traceback (most recent call last)",
      "\u001b[0;32m<ipython-input-7-d02cffdc256e>\u001b[0m in \u001b[0;36m<module>\u001b[0;34m\u001b[0m\n\u001b[1;32m     14\u001b[0m     \u001b[0;32mfor\u001b[0m \u001b[0mc\u001b[0m \u001b[0;32min\u001b[0m \u001b[0mcolumns\u001b[0m\u001b[0;34m:\u001b[0m\u001b[0;34m\u001b[0m\u001b[0;34m\u001b[0m\u001b[0m\n\u001b[1;32m     15\u001b[0m         \u001b[0mtimestamp\u001b[0m \u001b[0;34m=\u001b[0m \u001b[0mc\u001b[0m\u001b[0;34m.\u001b[0m\u001b[0msplit\u001b[0m\u001b[0;34m(\u001b[0m\u001b[0;34m' '\u001b[0m\u001b[0;34m)\u001b[0m\u001b[0;34m[\u001b[0m\u001b[0;36m0\u001b[0m\u001b[0;34m:\u001b[0m\u001b[0;36m3\u001b[0m\u001b[0;34m]\u001b[0m\u001b[0;34m\u001b[0m\u001b[0;34m\u001b[0m\u001b[0m\n\u001b[0;32m---> 16\u001b[0;31m         \u001b[0mhostname\u001b[0m\u001b[0;34m=\u001b[0m\u001b[0mc\u001b[0m\u001b[0;34m.\u001b[0m\u001b[0msplit\u001b[0m\u001b[0;34m(\u001b[0m\u001b[0;34m' '\u001b[0m\u001b[0;34m)\u001b[0m\u001b[0;34m[\u001b[0m\u001b[0;36m4\u001b[0m\u001b[0;34m]\u001b[0m\u001b[0;34m\u001b[0m\u001b[0;34m\u001b[0m\u001b[0m\n\u001b[0m\u001b[1;32m     17\u001b[0m         \u001b[0mfilterlog\u001b[0m\u001b[0;34m=\u001b[0m\u001b[0mc\u001b[0m\u001b[0;34m.\u001b[0m\u001b[0msplit\u001b[0m\u001b[0;34m(\u001b[0m\u001b[0;34m' '\u001b[0m\u001b[0;34m)\u001b[0m\u001b[0;34m[\u001b[0m\u001b[0;36m5\u001b[0m\u001b[0;34m]\u001b[0m\u001b[0;34m\u001b[0m\u001b[0;34m\u001b[0m\u001b[0m\n\u001b[1;32m     18\u001b[0m         \u001b[0mprint\u001b[0m\u001b[0;34m(\u001b[0m\u001b[0mtimestamp\u001b[0m\u001b[0;34m)\u001b[0m\u001b[0;34m\u001b[0m\u001b[0;34m\u001b[0m\u001b[0m\n",
      "\u001b[0;31mIndexError\u001b[0m: list index out of range"
     ]
    }
   ],
   "source": [
    "import pandas as pd\n",
    "\n",
    "import json\n",
    "\n",
    "path=\"/Users/denakarimi/Desktop/WS20:21/BDA/pfsense.log\"\n",
    "\n",
    "log_data=open(path,'r')\n",
    "result={}\n",
    "i=0\n",
    "for line in log_data:\n",
    "    print(line)\n",
    "    columns = line.split(',') #or w/e you're delimiter/separator is\n",
    "    data={}\n",
    "    for c in columns:\n",
    "        timestamp = c.split(' ')[0:3]\n",
    "        hostname=c.split(' ')[4]\n",
    "        filterlog=c.split(' ')[5]\n",
    "        print(timestamp)\n",
    "        print(hostname)\n",
    "        data[key]=value\n",
    "    result[i]=data\n",
    "    i+=1\n",
    "j=json.dumps(result)\n",
    "\n",
    "df=pd.read_json(j, orient='index')\n",
    "\n",
    "print (df.head)\n"
   ]
  },
  {
   "cell_type": "code",
   "execution_count": null,
   "metadata": {},
   "outputs": [],
   "source": []
  }
 ],
 "metadata": {
  "kernelspec": {
   "display_name": "Python 3",
   "language": "python",
   "name": "python3"
  },
  "language_info": {
   "codemirror_mode": {
    "name": "ipython",
    "version": 3
   },
   "file_extension": ".py",
   "mimetype": "text/x-python",
   "name": "python",
   "nbconvert_exporter": "python",
   "pygments_lexer": "ipython3",
   "version": "3.7.3"
  }
 },
 "nbformat": 4,
 "nbformat_minor": 2
}
